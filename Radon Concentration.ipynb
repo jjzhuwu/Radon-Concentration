{
 "cells": [
  {
   "cell_type": "markdown",
   "metadata": {},
   "source": [
    "# Radon Concentration\n",
    "## Data Import"
   ]
  },
  {
   "cell_type": "code",
   "execution_count": 1,
   "metadata": {
    "scrolled": true
   },
   "outputs": [],
   "source": [
    "import requests\n",
    "import pandas as pd\n",
    "url = 'https://health.canada.ca/apps/open-data/radon-concentrations/radon-concentration.csv'\n",
    "dfs = pd.read_csv(url)"
   ]
  },
  {
   "cell_type": "code",
   "execution_count": 2,
   "metadata": {},
   "outputs": [
    {
     "data": {
      "text/plain": [
       "(13815, 13)"
      ]
     },
     "execution_count": 2,
     "metadata": {},
     "output_type": "execute_result"
    }
   ],
   "source": [
    "dfs.shape"
   ]
  },
  {
   "cell_type": "code",
   "execution_count": 3,
   "metadata": {},
   "outputs": [
    {
     "data": {
      "text/html": [
       "<div>\n",
       "<style scoped>\n",
       "    .dataframe tbody tr th:only-of-type {\n",
       "        vertical-align: middle;\n",
       "    }\n",
       "\n",
       "    .dataframe tbody tr th {\n",
       "        vertical-align: top;\n",
       "    }\n",
       "\n",
       "    .dataframe thead th {\n",
       "        text-align: right;\n",
       "    }\n",
       "</style>\n",
       "<table border=\"1\" class=\"dataframe\">\n",
       "  <thead>\n",
       "    <tr style=\"text-align: right;\">\n",
       "      <th></th>\n",
       "      <th>ResultNumber</th>\n",
       "      <th>ProvinceTerritory</th>\n",
       "      <th>Health Region2007</th>\n",
       "      <th>HealthRegionCode2007</th>\n",
       "      <th>ForwardSortationAreaCodes</th>\n",
       "      <th>TestDurationInDays</th>\n",
       "      <th>AverageRadonConcentrationInBqPerM3</th>\n",
       "      <th>Unnamed: 7</th>\n",
       "      <th>Unnamed: 8</th>\n",
       "      <th>Unnamed: 9</th>\n",
       "      <th>Unnamed: 10</th>\n",
       "      <th>Unnamed: 11</th>\n",
       "      <th>Unnamed: 12</th>\n",
       "    </tr>\n",
       "  </thead>\n",
       "  <tbody>\n",
       "    <tr>\n",
       "      <th>0</th>\n",
       "      <td>1.0</td>\n",
       "      <td>NL</td>\n",
       "      <td>Eastern Regional Integrated Health Authority</td>\n",
       "      <td>1011.0</td>\n",
       "      <td>A0A</td>\n",
       "      <td>127.0</td>\n",
       "      <td>20</td>\n",
       "      <td>NaN</td>\n",
       "      <td>NaN</td>\n",
       "      <td>NaN</td>\n",
       "      <td>NaN</td>\n",
       "      <td>NaN</td>\n",
       "      <td>NaN</td>\n",
       "    </tr>\n",
       "    <tr>\n",
       "      <th>1</th>\n",
       "      <td>2.0</td>\n",
       "      <td>NL</td>\n",
       "      <td>Eastern Regional Integrated Health Authority</td>\n",
       "      <td>1011.0</td>\n",
       "      <td>A0A</td>\n",
       "      <td>108.0</td>\n",
       "      <td>36</td>\n",
       "      <td>NaN</td>\n",
       "      <td>NaN</td>\n",
       "      <td>NaN</td>\n",
       "      <td>NaN</td>\n",
       "      <td>NaN</td>\n",
       "      <td>NaN</td>\n",
       "    </tr>\n",
       "    <tr>\n",
       "      <th>2</th>\n",
       "      <td>3.0</td>\n",
       "      <td>NL</td>\n",
       "      <td>Eastern Regional Integrated Health Authority</td>\n",
       "      <td>1011.0</td>\n",
       "      <td>A0E</td>\n",
       "      <td>91.0</td>\n",
       "      <td>&lt;15</td>\n",
       "      <td>NaN</td>\n",
       "      <td>NaN</td>\n",
       "      <td>NaN</td>\n",
       "      <td>NaN</td>\n",
       "      <td>NaN</td>\n",
       "      <td>NaN</td>\n",
       "    </tr>\n",
       "    <tr>\n",
       "      <th>3</th>\n",
       "      <td>4.0</td>\n",
       "      <td>NL</td>\n",
       "      <td>Eastern Regional Integrated Health Authority</td>\n",
       "      <td>1011.0</td>\n",
       "      <td>A0A</td>\n",
       "      <td>91.0</td>\n",
       "      <td>31</td>\n",
       "      <td>NaN</td>\n",
       "      <td>NaN</td>\n",
       "      <td>NaN</td>\n",
       "      <td>NaN</td>\n",
       "      <td>NaN</td>\n",
       "      <td>NaN</td>\n",
       "    </tr>\n",
       "    <tr>\n",
       "      <th>4</th>\n",
       "      <td>5.0</td>\n",
       "      <td>NL</td>\n",
       "      <td>Eastern Regional Integrated Health Authority</td>\n",
       "      <td>1011.0</td>\n",
       "      <td>A0C</td>\n",
       "      <td>98.0</td>\n",
       "      <td>26</td>\n",
       "      <td>NaN</td>\n",
       "      <td>NaN</td>\n",
       "      <td>NaN</td>\n",
       "      <td>NaN</td>\n",
       "      <td>NaN</td>\n",
       "      <td>NaN</td>\n",
       "    </tr>\n",
       "  </tbody>\n",
       "</table>\n",
       "</div>"
      ],
      "text/plain": [
       "   ResultNumber ProvinceTerritory  \\\n",
       "0           1.0                NL   \n",
       "1           2.0                NL   \n",
       "2           3.0                NL   \n",
       "3           4.0                NL   \n",
       "4           5.0                NL   \n",
       "\n",
       "                              Health Region2007  HealthRegionCode2007  \\\n",
       "0  Eastern Regional Integrated Health Authority                1011.0   \n",
       "1  Eastern Regional Integrated Health Authority                1011.0   \n",
       "2  Eastern Regional Integrated Health Authority                1011.0   \n",
       "3  Eastern Regional Integrated Health Authority                1011.0   \n",
       "4  Eastern Regional Integrated Health Authority                1011.0   \n",
       "\n",
       "  ForwardSortationAreaCodes  TestDurationInDays  \\\n",
       "0                       A0A               127.0   \n",
       "1                       A0A               108.0   \n",
       "2                       A0E                91.0   \n",
       "3                       A0A                91.0   \n",
       "4                       A0C                98.0   \n",
       "\n",
       "  AverageRadonConcentrationInBqPerM3  Unnamed: 7  Unnamed: 8  Unnamed: 9  \\\n",
       "0                                 20         NaN         NaN         NaN   \n",
       "1                                 36         NaN         NaN         NaN   \n",
       "2                                <15         NaN         NaN         NaN   \n",
       "3                                 31         NaN         NaN         NaN   \n",
       "4                                 26         NaN         NaN         NaN   \n",
       "\n",
       "   Unnamed: 10  Unnamed: 11  Unnamed: 12  \n",
       "0          NaN          NaN          NaN  \n",
       "1          NaN          NaN          NaN  \n",
       "2          NaN          NaN          NaN  \n",
       "3          NaN          NaN          NaN  \n",
       "4          NaN          NaN          NaN  "
      ]
     },
     "execution_count": 3,
     "metadata": {},
     "output_type": "execute_result"
    }
   ],
   "source": [
    "dfs.head()"
   ]
  },
  {
   "cell_type": "code",
   "execution_count": 4,
   "metadata": {},
   "outputs": [
    {
     "data": {
      "text/html": [
       "<div>\n",
       "<style scoped>\n",
       "    .dataframe tbody tr th:only-of-type {\n",
       "        vertical-align: middle;\n",
       "    }\n",
       "\n",
       "    .dataframe tbody tr th {\n",
       "        vertical-align: top;\n",
       "    }\n",
       "\n",
       "    .dataframe thead th {\n",
       "        text-align: right;\n",
       "    }\n",
       "</style>\n",
       "<table border=\"1\" class=\"dataframe\">\n",
       "  <thead>\n",
       "    <tr style=\"text-align: right;\">\n",
       "      <th></th>\n",
       "      <th>ResultNumber</th>\n",
       "      <th>HealthRegionCode2007</th>\n",
       "      <th>TestDurationInDays</th>\n",
       "      <th>Unnamed: 7</th>\n",
       "      <th>Unnamed: 8</th>\n",
       "      <th>Unnamed: 9</th>\n",
       "      <th>Unnamed: 10</th>\n",
       "      <th>Unnamed: 11</th>\n",
       "      <th>Unnamed: 12</th>\n",
       "    </tr>\n",
       "  </thead>\n",
       "  <tbody>\n",
       "    <tr>\n",
       "      <th>count</th>\n",
       "      <td>13814.000000</td>\n",
       "      <td>13814.000000</td>\n",
       "      <td>13814.000000</td>\n",
       "      <td>0.0</td>\n",
       "      <td>0.0</td>\n",
       "      <td>0.0</td>\n",
       "      <td>0.0</td>\n",
       "      <td>0.0</td>\n",
       "      <td>0.0</td>\n",
       "    </tr>\n",
       "    <tr>\n",
       "      <th>mean</th>\n",
       "      <td>6907.500000</td>\n",
       "      <td>3717.666932</td>\n",
       "      <td>96.680469</td>\n",
       "      <td>NaN</td>\n",
       "      <td>NaN</td>\n",
       "      <td>NaN</td>\n",
       "      <td>NaN</td>\n",
       "      <td>NaN</td>\n",
       "      <td>NaN</td>\n",
       "    </tr>\n",
       "    <tr>\n",
       "      <th>std</th>\n",
       "      <td>3987.902644</td>\n",
       "      <td>1544.719745</td>\n",
       "      <td>14.612814</td>\n",
       "      <td>NaN</td>\n",
       "      <td>NaN</td>\n",
       "      <td>NaN</td>\n",
       "      <td>NaN</td>\n",
       "      <td>NaN</td>\n",
       "      <td>NaN</td>\n",
       "    </tr>\n",
       "    <tr>\n",
       "      <th>min</th>\n",
       "      <td>1.000000</td>\n",
       "      <td>1011.000000</td>\n",
       "      <td>30.000000</td>\n",
       "      <td>NaN</td>\n",
       "      <td>NaN</td>\n",
       "      <td>NaN</td>\n",
       "      <td>NaN</td>\n",
       "      <td>NaN</td>\n",
       "      <td>NaN</td>\n",
       "    </tr>\n",
       "    <tr>\n",
       "      <th>25%</th>\n",
       "      <td>3454.250000</td>\n",
       "      <td>2411.000000</td>\n",
       "      <td>91.000000</td>\n",
       "      <td>NaN</td>\n",
       "      <td>NaN</td>\n",
       "      <td>NaN</td>\n",
       "      <td>NaN</td>\n",
       "      <td>NaN</td>\n",
       "      <td>NaN</td>\n",
       "    </tr>\n",
       "    <tr>\n",
       "      <th>50%</th>\n",
       "      <td>6907.500000</td>\n",
       "      <td>3557.000000</td>\n",
       "      <td>92.000000</td>\n",
       "      <td>NaN</td>\n",
       "      <td>NaN</td>\n",
       "      <td>NaN</td>\n",
       "      <td>NaN</td>\n",
       "      <td>NaN</td>\n",
       "      <td>NaN</td>\n",
       "    </tr>\n",
       "    <tr>\n",
       "      <th>75%</th>\n",
       "      <td>10360.750000</td>\n",
       "      <td>4714.000000</td>\n",
       "      <td>98.000000</td>\n",
       "      <td>NaN</td>\n",
       "      <td>NaN</td>\n",
       "      <td>NaN</td>\n",
       "      <td>NaN</td>\n",
       "      <td>NaN</td>\n",
       "      <td>NaN</td>\n",
       "    </tr>\n",
       "    <tr>\n",
       "      <th>max</th>\n",
       "      <td>13814.000000</td>\n",
       "      <td>6201.000000</td>\n",
       "      <td>456.000000</td>\n",
       "      <td>NaN</td>\n",
       "      <td>NaN</td>\n",
       "      <td>NaN</td>\n",
       "      <td>NaN</td>\n",
       "      <td>NaN</td>\n",
       "      <td>NaN</td>\n",
       "    </tr>\n",
       "  </tbody>\n",
       "</table>\n",
       "</div>"
      ],
      "text/plain": [
       "       ResultNumber  HealthRegionCode2007  TestDurationInDays  Unnamed: 7  \\\n",
       "count  13814.000000          13814.000000        13814.000000         0.0   \n",
       "mean    6907.500000           3717.666932           96.680469         NaN   \n",
       "std     3987.902644           1544.719745           14.612814         NaN   \n",
       "min        1.000000           1011.000000           30.000000         NaN   \n",
       "25%     3454.250000           2411.000000           91.000000         NaN   \n",
       "50%     6907.500000           3557.000000           92.000000         NaN   \n",
       "75%    10360.750000           4714.000000           98.000000         NaN   \n",
       "max    13814.000000           6201.000000          456.000000         NaN   \n",
       "\n",
       "       Unnamed: 8  Unnamed: 9  Unnamed: 10  Unnamed: 11  Unnamed: 12  \n",
       "count         0.0         0.0          0.0          0.0          0.0  \n",
       "mean          NaN         NaN          NaN          NaN          NaN  \n",
       "std           NaN         NaN          NaN          NaN          NaN  \n",
       "min           NaN         NaN          NaN          NaN          NaN  \n",
       "25%           NaN         NaN          NaN          NaN          NaN  \n",
       "50%           NaN         NaN          NaN          NaN          NaN  \n",
       "75%           NaN         NaN          NaN          NaN          NaN  \n",
       "max           NaN         NaN          NaN          NaN          NaN  "
      ]
     },
     "execution_count": 4,
     "metadata": {},
     "output_type": "execute_result"
    }
   ],
   "source": [
    "dfs.describe()"
   ]
  },
  {
   "cell_type": "code",
   "execution_count": 5,
   "metadata": {},
   "outputs": [
    {
     "data": {
      "text/plain": [
       "ResultNumber                          float64\n",
       "ProvinceTerritory                      object\n",
       "Health Region2007                      object\n",
       "HealthRegionCode2007                  float64\n",
       "ForwardSortationAreaCodes              object\n",
       "TestDurationInDays                    float64\n",
       "AverageRadonConcentrationInBqPerM3     object\n",
       "Unnamed: 7                            float64\n",
       "Unnamed: 8                            float64\n",
       "Unnamed: 9                            float64\n",
       "Unnamed: 10                           float64\n",
       "Unnamed: 11                           float64\n",
       "Unnamed: 12                           float64\n",
       "dtype: object"
      ]
     },
     "execution_count": 5,
     "metadata": {},
     "output_type": "execute_result"
    }
   ],
   "source": [
    "dfs.dtypes"
   ]
  },
  {
   "cell_type": "markdown",
   "metadata": {},
   "source": [
    "## Data Clensing\n",
    "Here, note that the column ResultNumber is irrelevant, so we drop it."
   ]
  },
  {
   "cell_type": "code",
   "execution_count": 6,
   "metadata": {},
   "outputs": [],
   "source": [
    "dfs = dfs.drop(['ResultNumber'], axis=1)"
   ]
  },
  {
   "cell_type": "markdown",
   "metadata": {},
   "source": [
    "Now we check for missing data."
   ]
  },
  {
   "cell_type": "code",
   "execution_count": 7,
   "metadata": {},
   "outputs": [
    {
     "data": {
      "text/plain": [
       "ProvinceTerritory                         1\n",
       "Health Region2007                         1\n",
       "HealthRegionCode2007                      1\n",
       "ForwardSortationAreaCodes                 1\n",
       "TestDurationInDays                        1\n",
       "AverageRadonConcentrationInBqPerM3        1\n",
       "Unnamed: 7                            13815\n",
       "Unnamed: 8                            13815\n",
       "Unnamed: 9                            13815\n",
       "Unnamed: 10                           13815\n",
       "Unnamed: 11                           13815\n",
       "Unnamed: 12                           13815\n",
       "dtype: int64"
      ]
     },
     "execution_count": 7,
     "metadata": {},
     "output_type": "execute_result"
    }
   ],
   "source": [
    "dfs.isnull().sum()"
   ]
  },
  {
   "cell_type": "markdown",
   "metadata": {},
   "source": [
    "All data is missing in the Unnamed columns, so we drop these."
   ]
  },
  {
   "cell_type": "code",
   "execution_count": 8,
   "metadata": {},
   "outputs": [],
   "source": [
    "dfs.dropna(axis=1, how='all', inplace=True)"
   ]
  },
  {
   "cell_type": "markdown",
   "metadata": {},
   "source": [
    "Now we checking for rows with missing data and drop them."
   ]
  },
  {
   "cell_type": "code",
   "execution_count": 9,
   "metadata": {},
   "outputs": [
    {
     "data": {
      "text/html": [
       "<div>\n",
       "<style scoped>\n",
       "    .dataframe tbody tr th:only-of-type {\n",
       "        vertical-align: middle;\n",
       "    }\n",
       "\n",
       "    .dataframe tbody tr th {\n",
       "        vertical-align: top;\n",
       "    }\n",
       "\n",
       "    .dataframe thead th {\n",
       "        text-align: right;\n",
       "    }\n",
       "</style>\n",
       "<table border=\"1\" class=\"dataframe\">\n",
       "  <thead>\n",
       "    <tr style=\"text-align: right;\">\n",
       "      <th></th>\n",
       "      <th>ProvinceTerritory</th>\n",
       "      <th>Health Region2007</th>\n",
       "      <th>HealthRegionCode2007</th>\n",
       "      <th>ForwardSortationAreaCodes</th>\n",
       "      <th>TestDurationInDays</th>\n",
       "      <th>AverageRadonConcentrationInBqPerM3</th>\n",
       "    </tr>\n",
       "  </thead>\n",
       "  <tbody>\n",
       "    <tr>\n",
       "      <th>13814</th>\n",
       "      <td>NaN</td>\n",
       "      <td>NaN</td>\n",
       "      <td>NaN</td>\n",
       "      <td>NaN</td>\n",
       "      <td>NaN</td>\n",
       "      <td>NaN</td>\n",
       "    </tr>\n",
       "  </tbody>\n",
       "</table>\n",
       "</div>"
      ],
      "text/plain": [
       "      ProvinceTerritory Health Region2007  HealthRegionCode2007  \\\n",
       "13814               NaN               NaN                   NaN   \n",
       "\n",
       "      ForwardSortationAreaCodes  TestDurationInDays  \\\n",
       "13814                       NaN                 NaN   \n",
       "\n",
       "      AverageRadonConcentrationInBqPerM3  \n",
       "13814                                NaN  "
      ]
     },
     "execution_count": 9,
     "metadata": {},
     "output_type": "execute_result"
    }
   ],
   "source": [
    "dfs[dfs.isnull().any(axis=1)]"
   ]
  },
  {
   "cell_type": "code",
   "execution_count": 10,
   "metadata": {},
   "outputs": [],
   "source": [
    "dfs.dropna(inplace=True)"
   ]
  },
  {
   "cell_type": "markdown",
   "metadata": {},
   "source": [
    "Final check to ensure the dataframe has no missing data."
   ]
  },
  {
   "cell_type": "code",
   "execution_count": 11,
   "metadata": {},
   "outputs": [
    {
     "data": {
      "text/plain": [
       "0"
      ]
     },
     "execution_count": 11,
     "metadata": {},
     "output_type": "execute_result"
    }
   ],
   "source": [
    "dfs.isna().sum().sum()"
   ]
  },
  {
   "cell_type": "markdown",
   "metadata": {},
   "source": [
    "We check the relation between the columns Health Region2007 and HealthRegionCode2007."
   ]
  },
  {
   "cell_type": "code",
   "execution_count": 12,
   "metadata": {},
   "outputs": [
    {
     "data": {
      "text/plain": [
       "0"
      ]
     },
     "execution_count": 12,
     "metadata": {},
     "output_type": "execute_result"
    }
   ],
   "source": [
    "(dfs.groupby(['Health Region2007'])['HealthRegionCode2007'].unique().value_counts()>1).sum()"
   ]
  },
  {
   "cell_type": "code",
   "execution_count": 13,
   "metadata": {},
   "outputs": [
    {
     "data": {
      "text/plain": [
       "0"
      ]
     },
     "execution_count": 13,
     "metadata": {},
     "output_type": "execute_result"
    }
   ],
   "source": [
    "(dfs.groupby(['HealthRegionCode2007'])['Health Region2007'].unique().value_counts()>1).sum()"
   ]
  },
  {
   "cell_type": "markdown",
   "metadata": {},
   "source": [
    "Thus HealthReggionCode2007 has a one-to-one correspondance to Health Region 2007, so we can drop the code column."
   ]
  },
  {
   "cell_type": "code",
   "execution_count": 14,
   "metadata": {},
   "outputs": [],
   "source": [
    "dfs=dfs.drop(['HealthRegionCode2007'], axis=1)"
   ]
  },
  {
   "cell_type": "markdown",
   "metadata": {},
   "source": [
    "We expect that the Average Radon Concentration is numeric, however this column is of object (string) type. We check for any non-numeric entry in this column before we change the type to numeric (float64)."
   ]
  },
  {
   "cell_type": "code",
   "execution_count": 15,
   "metadata": {},
   "outputs": [
    {
     "data": {
      "text/plain": [
       "<15    2585\n",
       "Name: AverageRadonConcentrationInBqPerM3, dtype: int64"
      ]
     },
     "execution_count": 15,
     "metadata": {},
     "output_type": "execute_result"
    }
   ],
   "source": [
    "dfs[dfs['AverageRadonConcentrationInBqPerM3'].apply(lambda x: not x.isnumeric())]['AverageRadonConcentrationInBqPerM3'].value_counts()"
   ]
  },
  {
   "cell_type": "markdown",
   "metadata": {},
   "source": [
    "We impute 7.5 to entry with radon concentration less than 15."
   ]
  },
  {
   "cell_type": "code",
   "execution_count": 16,
   "metadata": {},
   "outputs": [],
   "source": [
    "dfs['AverageRadonConcentrationInBqPerM3'].replace('<15', 7.5, inplace=True)\n",
    "dfs['AverageRadonConcentrationInBqPerM3'] = dfs['AverageRadonConcentrationInBqPerM3'].astype('float64')"
   ]
  },
  {
   "cell_type": "markdown",
   "metadata": {},
   "source": [
    "Final type checking."
   ]
  },
  {
   "cell_type": "code",
   "execution_count": 17,
   "metadata": {},
   "outputs": [
    {
     "data": {
      "text/plain": [
       "ProvinceTerritory                      object\n",
       "Health Region2007                      object\n",
       "ForwardSortationAreaCodes              object\n",
       "TestDurationInDays                    float64\n",
       "AverageRadonConcentrationInBqPerM3    float64\n",
       "dtype: object"
      ]
     },
     "execution_count": 17,
     "metadata": {},
     "output_type": "execute_result"
    }
   ],
   "source": [
    "dfs.dtypes"
   ]
  },
  {
   "cell_type": "markdown",
   "metadata": {},
   "source": [
    "## Exploratory Data Analysis"
   ]
  },
  {
   "cell_type": "code",
   "execution_count": 18,
   "metadata": {},
   "outputs": [
    {
     "data": {
      "text/html": [
       "<div>\n",
       "<style scoped>\n",
       "    .dataframe tbody tr th:only-of-type {\n",
       "        vertical-align: middle;\n",
       "    }\n",
       "\n",
       "    .dataframe tbody tr th {\n",
       "        vertical-align: top;\n",
       "    }\n",
       "\n",
       "    .dataframe thead th {\n",
       "        text-align: right;\n",
       "    }\n",
       "</style>\n",
       "<table border=\"1\" class=\"dataframe\">\n",
       "  <thead>\n",
       "    <tr style=\"text-align: right;\">\n",
       "      <th></th>\n",
       "      <th>ProvinceTerritory</th>\n",
       "      <th>Health Region2007</th>\n",
       "      <th>ForwardSortationAreaCodes</th>\n",
       "      <th>TestDurationInDays</th>\n",
       "      <th>AverageRadonConcentrationInBqPerM3</th>\n",
       "    </tr>\n",
       "  </thead>\n",
       "  <tbody>\n",
       "    <tr>\n",
       "      <th>0</th>\n",
       "      <td>NL</td>\n",
       "      <td>Eastern Regional Integrated Health Authority</td>\n",
       "      <td>A0A</td>\n",
       "      <td>127.0</td>\n",
       "      <td>20.0</td>\n",
       "    </tr>\n",
       "    <tr>\n",
       "      <th>1</th>\n",
       "      <td>NL</td>\n",
       "      <td>Eastern Regional Integrated Health Authority</td>\n",
       "      <td>A0A</td>\n",
       "      <td>108.0</td>\n",
       "      <td>36.0</td>\n",
       "    </tr>\n",
       "    <tr>\n",
       "      <th>2</th>\n",
       "      <td>NL</td>\n",
       "      <td>Eastern Regional Integrated Health Authority</td>\n",
       "      <td>A0E</td>\n",
       "      <td>91.0</td>\n",
       "      <td>7.5</td>\n",
       "    </tr>\n",
       "    <tr>\n",
       "      <th>3</th>\n",
       "      <td>NL</td>\n",
       "      <td>Eastern Regional Integrated Health Authority</td>\n",
       "      <td>A0A</td>\n",
       "      <td>91.0</td>\n",
       "      <td>31.0</td>\n",
       "    </tr>\n",
       "    <tr>\n",
       "      <th>4</th>\n",
       "      <td>NL</td>\n",
       "      <td>Eastern Regional Integrated Health Authority</td>\n",
       "      <td>A0C</td>\n",
       "      <td>98.0</td>\n",
       "      <td>26.0</td>\n",
       "    </tr>\n",
       "  </tbody>\n",
       "</table>\n",
       "</div>"
      ],
      "text/plain": [
       "  ProvinceTerritory                             Health Region2007  \\\n",
       "0                NL  Eastern Regional Integrated Health Authority   \n",
       "1                NL  Eastern Regional Integrated Health Authority   \n",
       "2                NL  Eastern Regional Integrated Health Authority   \n",
       "3                NL  Eastern Regional Integrated Health Authority   \n",
       "4                NL  Eastern Regional Integrated Health Authority   \n",
       "\n",
       "  ForwardSortationAreaCodes  TestDurationInDays  \\\n",
       "0                       A0A               127.0   \n",
       "1                       A0A               108.0   \n",
       "2                       A0E                91.0   \n",
       "3                       A0A                91.0   \n",
       "4                       A0C                98.0   \n",
       "\n",
       "   AverageRadonConcentrationInBqPerM3  \n",
       "0                                20.0  \n",
       "1                                36.0  \n",
       "2                                 7.5  \n",
       "3                                31.0  \n",
       "4                                26.0  "
      ]
     },
     "execution_count": 18,
     "metadata": {},
     "output_type": "execute_result"
    }
   ],
   "source": [
    "dfs.head()"
   ]
  },
  {
   "cell_type": "code",
   "execution_count": 19,
   "metadata": {},
   "outputs": [
    {
     "data": {
      "text/html": [
       "<div>\n",
       "<style scoped>\n",
       "    .dataframe tbody tr th:only-of-type {\n",
       "        vertical-align: middle;\n",
       "    }\n",
       "\n",
       "    .dataframe tbody tr th {\n",
       "        vertical-align: top;\n",
       "    }\n",
       "\n",
       "    .dataframe thead th {\n",
       "        text-align: right;\n",
       "    }\n",
       "</style>\n",
       "<table border=\"1\" class=\"dataframe\">\n",
       "  <thead>\n",
       "    <tr style=\"text-align: right;\">\n",
       "      <th></th>\n",
       "      <th>TestDurationInDays</th>\n",
       "      <th>AverageRadonConcentrationInBqPerM3</th>\n",
       "    </tr>\n",
       "  </thead>\n",
       "  <tbody>\n",
       "    <tr>\n",
       "      <th>count</th>\n",
       "      <td>13814.000000</td>\n",
       "      <td>13814.000000</td>\n",
       "    </tr>\n",
       "    <tr>\n",
       "      <th>mean</th>\n",
       "      <td>96.680469</td>\n",
       "      <td>96.434451</td>\n",
       "    </tr>\n",
       "    <tr>\n",
       "      <th>std</th>\n",
       "      <td>14.612814</td>\n",
       "      <td>170.463366</td>\n",
       "    </tr>\n",
       "    <tr>\n",
       "      <th>min</th>\n",
       "      <td>30.000000</td>\n",
       "      <td>7.500000</td>\n",
       "    </tr>\n",
       "    <tr>\n",
       "      <th>25%</th>\n",
       "      <td>91.000000</td>\n",
       "      <td>19.000000</td>\n",
       "    </tr>\n",
       "    <tr>\n",
       "      <th>50%</th>\n",
       "      <td>92.000000</td>\n",
       "      <td>47.000000</td>\n",
       "    </tr>\n",
       "    <tr>\n",
       "      <th>75%</th>\n",
       "      <td>98.000000</td>\n",
       "      <td>114.000000</td>\n",
       "    </tr>\n",
       "    <tr>\n",
       "      <th>max</th>\n",
       "      <td>456.000000</td>\n",
       "      <td>5657.000000</td>\n",
       "    </tr>\n",
       "  </tbody>\n",
       "</table>\n",
       "</div>"
      ],
      "text/plain": [
       "       TestDurationInDays  AverageRadonConcentrationInBqPerM3\n",
       "count        13814.000000                        13814.000000\n",
       "mean            96.680469                           96.434451\n",
       "std             14.612814                          170.463366\n",
       "min             30.000000                            7.500000\n",
       "25%             91.000000                           19.000000\n",
       "50%             92.000000                           47.000000\n",
       "75%             98.000000                          114.000000\n",
       "max            456.000000                         5657.000000"
      ]
     },
     "execution_count": 19,
     "metadata": {},
     "output_type": "execute_result"
    }
   ],
   "source": [
    "dfs.describe()"
   ]
  },
  {
   "cell_type": "code",
   "execution_count": 20,
   "metadata": {},
   "outputs": [],
   "source": [
    "import matplotlib.pyplot as plt"
   ]
  },
  {
   "cell_type": "code",
   "execution_count": 42,
   "metadata": {},
   "outputs": [
    {
     "data": {
      "image/png": "[encoded data removed]",
      "text/plain": [
       "<Figure size 432x288 with 1 Axes>"
      ]
     },
     "metadata": {
      "needs_background": "light"
     },
     "output_type": "display_data"
    }
   ],
   "source": [
    "province = dfs['ProvinceTerritory'].value_counts()\n",
    "plt.bar(province.index, province.values)\n",
    "plt.xlabel(\"Province\")\n",
    "plt.ylabel(\"Frequency per Province\")\n",
    "plt.savefig(\"figures/FreqProv.png\", dpi=400)\n",
    "plt.show()"
   ]
  },
  {
   "cell_type": "markdown",
   "metadata": {},
   "source": [
    "Most oberservations are in ON, BC, and Quebec."
   ]
  },
  {
   "cell_type": "code",
   "execution_count": 34,
   "metadata": {},
   "outputs": [
    {
     "data": {
      "image/png": "[encoded data removed]",
      "text/plain": [
       "<Figure size 432x288 with 1 Axes>"
      ]
     },
     "metadata": {
      "needs_background": "light"
     },
     "output_type": "display_data"
    }
   ],
   "source": [
    "plt.clf()\n",
    "plt.hist(dfs['TestDurationInDays'], bins=20)\n",
    "plt.xlabel(\"Days\")\n",
    "plt.ylabel(\"Test Duration Frequency\")\n",
    "plt.savefig(\"figures/TestDuration.png\", dpi=400)\n",
    "plt.show()"
   ]
  },
  {
   "cell_type": "markdown",
   "metadata": {},
   "source": [
    "Most observations are taken from an average of 100 days."
   ]
  },
  {
   "cell_type": "code",
   "execution_count": 26,
   "metadata": {},
   "outputs": [],
   "source": [
    "##average_days = dfs.groupby(['Health Region2007'])['TestDurationInDays'].mean()\n",
    "##plt.hist(average_days)"
   ]
  },
  {
   "cell_type": "code",
   "execution_count": 43,
   "metadata": {},
   "outputs": [
    {
     "data": {
      "image/png": "[encoded data removed]",
      "text/plain": [
       "<Figure size 432x288 with 1 Axes>"
      ]
     },
     "metadata": {
      "needs_background": "light"
     },
     "output_type": "display_data"
    }
   ],
   "source": [
    "average_concentration = dfs.groupby(['ProvinceTerritory'])['AverageRadonConcentrationInBqPerM3'].mean()\n",
    "std_concentration =  dfs.groupby(['ProvinceTerritory'])['AverageRadonConcentrationInBqPerM3'].std()\n",
    "plt.bar(average_concentration.index, average_concentration.values, yerr=std_concentration)\n",
    "plt.xlabel(\"Province\")\n",
    "plt.ylabel(\"Averages (std) Bq/m$^3$\")\n",
    "plt.ylim(0, 510)\n",
    "plt.savefig(\"figures/AvgStdProv.png\", dpi=400)\n",
    "plt.show()"
   ]
  },
  {
   "cell_type": "markdown",
   "metadata": {},
   "source": [
    "How many of those are above the limit level of Radon?"
   ]
  },
  {
   "cell_type": "code",
   "execution_count": 44,
   "metadata": {},
   "outputs": [
    {
     "data": {
      "image/png": "[encoded data removed]",
      "text/plain": [
       "<Figure size 432x288 with 1 Axes>"
      ]
     },
     "metadata": {
      "needs_background": "light"
     },
     "output_type": "display_data"
    }
   ],
   "source": [
    "dfs_crit = dfs[dfs['AverageRadonConcentrationInBqPerM3'] >= 300]\n",
    "province_crit = dfs_crit['ProvinceTerritory'].value_counts()\n",
    "plt.bar(province_crit.index, province_crit.values)\n",
    "plt.xlabel(\"Province\")\n",
    "plt.ylabel(\"Frequency per Province\")\n",
    "plt.savefig(\"figures/FreqCritProv.png\", dpi=400)\n",
    "plt.show()"
   ]
  },
  {
   "cell_type": "code",
   "execution_count": 62,
   "metadata": {},
   "outputs": [
    {
     "data": {
      "text/plain": [
       "ON    1.085855\n",
       "MB    0.984508\n",
       "NB    0.962791\n",
       "QC    0.600840\n",
       "BC    0.521210\n",
       "SK    0.463298\n",
       "NS    0.238888\n",
       "AB    0.231649\n",
       "NL    0.188215\n",
       "YT    0.180976\n",
       "NT    0.021717\n",
       "PE    0.014478\n",
       "Name: ProvinceTerritory, dtype: float64"
      ]
     },
     "execution_count": 62,
     "metadata": {},
     "output_type": "execute_result"
    }
   ],
   "source": [
    "province_crit/len(dfs)*100"
   ]
  },
  {
   "cell_type": "markdown",
   "metadata": {},
   "source": [
    "Most oberservations are in Ontario, Manitoba, New Brunswick."
   ]
  },
  {
   "cell_type": "markdown",
   "metadata": {},
   "source": [
    "## Choropleth Map"
   ]
  },
  {
   "cell_type": "code",
   "execution_count": 50,
   "metadata": {},
   "outputs": [],
   "source": [
    "import geopandas as gpd\n",
    "can = gpd.GeoDataFrame.from_file(\"Map_Canada/gpr_000b11a_e.shp\")"
   ]
  },
  {
   "cell_type": "code",
   "execution_count": 51,
   "metadata": {},
   "outputs": [],
   "source": [
    "can['Abbv'] = pd.Series(data=['BC','QC','NU','PE','SK','YT','MB','ON','NB','NT','AB','NL','NS'])\n",
    "can = can.join(average_concentration, on='Abbv')"
   ]
  },
  {
   "cell_type": "code",
   "execution_count": 55,
   "metadata": {},
   "outputs": [
    {
     "name": "stderr",
     "output_type": "stream",
     "text": [
      "<ipython-input-55-19131787a7ef>:8: MatplotlibDeprecationWarning: The 's' parameter of annotate() has been renamed 'text' since Matplotlib 3.3; support for the old name will be dropped two minor releases later.\n",
      "  plt.annotate(s=row['Abbv'], xy=row['coords'],\n"
     ]
    },
    {
     "data": {
      "image/png": "[encoded data removed]",
      "text/plain": [
       "<Figure size 2160x1080 with 2 Axes>"
      ]
     },
     "metadata": {
      "needs_background": "light"
     },
     "output_type": "display_data"
    }
   ],
   "source": [
    "can.plot(column='AverageRadonConcentrationInBqPerM3', legend=True, cmap='OrRd', figsize=(30, 15))\n",
    "plt.axis('off')\n",
    "# plt.title(\"Average Radon Concentration in Homes Across Canada\", fontsize=40)\n",
    "\n",
    "can['coords'] = can['geometry'].apply(lambda x: x.representative_point().coords[:])\n",
    "can['coords'] = [coords[0] for coords in can['coords']]\n",
    "for idx, row in can.iterrows():\n",
    "    plt.annotate(s=row['Abbv'], xy=row['coords'],\n",
    "                 horizontalalignment='center', fontsize=18)\n",
    "plt.savefig(\"figures/AvgProvMap.png\", dpi=200)\n",
    "plt.show()"
   ]
  },
  {
   "cell_type": "code",
   "execution_count": null,
   "metadata": {},
   "outputs": [],
   "source": []
  }
 ],
 "metadata": {
  "kernelspec": {
   "display_name": "Python 3",
   "language": "python",
   "name": "python3"
  },
  "language_info": {
   "codemirror_mode": {
    "name": "ipython",
    "version": 3
   },
   "file_extension": ".py",
   "mimetype": "text/x-python",
   "name": "python",
   "nbconvert_exporter": "python",
   "pygments_lexer": "ipython3",
   "version": "3.8.2"
  }
 },
 "nbformat": 4,
 "nbformat_minor": 4
}
